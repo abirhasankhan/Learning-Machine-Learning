{
 "cells": [
  {
   "cell_type": "markdown",
   "metadata": {},
   "source": [
    "Install Dependencies"
   ]
  },
  {
   "cell_type": "code",
   "execution_count": null,
   "metadata": {},
   "outputs": [
    {
     "ename": "",
     "evalue": "",
     "output_type": "error",
     "traceback": [
      "\u001b[1;31mRunning cells with 'Python 3.12.6' requires the ipykernel package.\n",
      "\u001b[1;31mRun the following command to install 'ipykernel' into the Python environment. \n",
      "\u001b[1;31mCommand: 'c:/Python312/python.exe -m pip install ipykernel -U --user --force-reinstall'"
     ]
    }
   ],
   "source": [
    "# Create and activate a virtual environment (optional but recommended)\n",
    "python -m venv yolov5_env\n",
    "# Activate virtual environment\n",
    "# For Windows:\n",
    "yolov5_env\\Scripts\\activate\n",
    "# For macOS/Linux:\n",
    "source yolov5_env/bin/activate\n",
    "\n",
    "# Install dependencies\n",
    "pip install -U pip\n",
    "pip install torch torchvision matplotlib opencv-python-headless\n"
   ]
  }
 ],
 "metadata": {
  "kernelspec": {
   "display_name": "Python 3",
   "language": "python",
   "name": "python3"
  },
  "language_info": {
   "name": "python",
   "version": "3.12.6"
  }
 },
 "nbformat": 4,
 "nbformat_minor": 2
}
